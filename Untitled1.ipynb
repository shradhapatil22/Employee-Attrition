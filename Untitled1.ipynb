{
 "cells": [
  {
   "cell_type": "code",
   "execution_count": 1,
   "id": "af7e00f2",
   "metadata": {},
   "outputs": [
    {
     "name": "stdout",
     "output_type": "stream",
     "text": [
      "Coefficients:\n",
      "                       coef  exp(coef)  se(coef)  coef lower 95%   \n",
      "covariate                                                          \n",
      "Age               -0.551575   0.576042  0.214734       -0.972447  \\\n",
      "Gender            -4.842531   0.007887  0.735278       -6.283649   \n",
      "Salary             0.001098   1.001098  0.000286        0.000538   \n",
      "PerformanceRating  2.758552  15.776985  1.015993        0.767243   \n",
      "\n",
      "                   coef upper 95%  exp(coef) lower 95%  exp(coef) upper 95%   \n",
      "covariate                                                                     \n",
      "Age                     -0.130703             0.378157             0.877478  \\\n",
      "Gender                  -3.401414             0.001867             0.033326   \n",
      "Salary                   0.001658             1.000538             1.001659   \n",
      "PerformanceRating        4.749862             2.153819           115.568306   \n",
      "\n",
      "                   cmp to         z             p   -log2(p)  \n",
      "covariate                                                     \n",
      "Age                   0.0 -2.568639  1.020989e-02   6.613889  \n",
      "Gender                0.0 -6.585990  4.518628e-11  34.365324  \n",
      "Salary                0.0  3.841396  1.223367e-04  12.996856  \n",
      "PerformanceRating     0.0  2.715129  6.624987e-03   7.237867  \n",
      "\n",
      "Probability of resignation over time for the hypothetical employee:\n",
      "            0\n",
      "1.0  1.000000\n",
      "2.0  1.000000\n",
      "3.0  0.998568\n",
      "4.0  0.960716\n",
      "5.0  0.717529\n"
     ]
    },
    {
     "name": "stderr",
     "output_type": "stream",
     "text": [
      "C:\\Users\\admin\\anaconda3\\lib\\site-packages\\lifelines\\fitters\\coxph_fitter.py:1614: ConvergenceWarning: Newton-Raphson failed to converge sufficiently. Please see the following tips in the lifelines documentation: https://lifelines.readthedocs.io/en/latest/Examples.html#problems-with-convergence-in-the-cox-proportional-hazard-model\n",
      "  warnings.warn(\n"
     ]
    }
   ],
   "source": [
    "import pandas as pd\n",
    "from lifelines import CoxPHFitter\n",
    "\n",
    "# Sample data (replace this with your own data)\n",
    "data = {\n",
    "    'EmployeeID': range(1, 201),\n",
    "    'Age': [35, 42, 28, 39, 45, 33, 48, 29, 37, 41] * 20,\n",
    "    'Gender': ['Male', 'Female'] * 100,\n",
    "    'Department': ['Sales', 'Marketing', 'Finance', 'HR'] * 50,\n",
    "    'Salary': [50000, 60000, 55000, 52000, 58000, 53000, 57000, 54000, 59000, 51000] * 20,\n",
    "    'PerformanceRating': [4, 3, 5, 4, 4, 3, 5, 4, 3, 5] * 20,\n",
    "    'Tenure': [2, 3, 1, 4, 5, 2, 6, 1, 3, 4] * 20,\n",
    "    'Resignation': [0, 1, 0, 0, 1, 0, 1, 0, 0, 1] * 20  # 1 if employee resigned, 0 if still employed\n",
    "}\n",
    "df = pd.DataFrame(data)\n",
    "\n",
    "# Encode categorical variables\n",
    "df['Gender'] = pd.get_dummies(df['Gender'], drop_first=True)  # Convert gender to binary (Male: 1, Female: 0)\n",
    "df = pd.get_dummies(df, columns=['Department'], drop_first=True)  # Convert department to dummy variables\n",
    "\n",
    "# Fit Cox proportional hazards regression model\n",
    "cph = CoxPHFitter()\n",
    "cph.fit(df[['Age', 'Gender', 'Salary', 'PerformanceRating', 'Tenure', 'Resignation']], duration_col='Tenure', event_col='Resignation')\n",
    "\n",
    "# Print coefficients\n",
    "print(\"Coefficients:\")\n",
    "print(cph.summary)\n",
    "\n",
    "# Predict probability of resignation for a hypothetical employee\n",
    "hypothetical_employee = pd.DataFrame({\n",
    "    'Age': [40],\n",
    "    'Gender': [1],  # Male\n",
    "    'Salary': [55000],\n",
    "    'PerformanceRating': [4],\n",
    "    'Tenure': [3]  # Years\n",
    "})\n",
    "prob_resignation = cph.predict_survival_function(hypothetical_employee, times=[1, 2, 3, 4, 5])  # Predict at specific time points\n",
    "print(\"\\nProbability of resignation over time for the hypothetical employee:\")\n",
    "print(prob_resignation)\n"
   ]
  },
  {
   "cell_type": "code",
   "execution_count": null,
   "id": "455bde0c",
   "metadata": {},
   "outputs": [],
   "source": []
  }
 ],
 "metadata": {
  "kernelspec": {
   "display_name": "Python 3 (ipykernel)",
   "language": "python",
   "name": "python3"
  },
  "language_info": {
   "codemirror_mode": {
    "name": "ipython",
    "version": 3
   },
   "file_extension": ".py",
   "mimetype": "text/x-python",
   "name": "python",
   "nbconvert_exporter": "python",
   "pygments_lexer": "ipython3",
   "version": "3.9.12"
  }
 },
 "nbformat": 4,
 "nbformat_minor": 5
}
